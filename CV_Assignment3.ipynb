{
  "nbformat": 4,
  "nbformat_minor": 0,
  "metadata": {
    "colab": {
      "name": "CV_A3",
      "provenance": [],
      "collapsed_sections": []
    },
    "kernelspec": {
      "display_name": "Python 3",
      "name": "python3"
    },
    "accelerator": "GPU"
  },
  "cells": [
    {
      "cell_type": "code",
      "metadata": {
        "colab": {
          "base_uri": "https://localhost:8080/"
        },
        "id": "kUtyZWsHZoxb",
        "outputId": "7f61c243-5ae0-4f86-befb-b1ef044d8fec"
      },
      "source": [
        "from google.colab import drive\n",
        "drive.mount('/content/drive')"
      ],
      "execution_count": 30,
      "outputs": [
        {
          "output_type": "stream",
          "text": [
            "Drive already mounted at /content/drive; to attempt to forcibly remount, call drive.mount(\"/content/drive\", force_remount=True).\n"
          ],
          "name": "stdout"
        }
      ]
    },
    {
      "cell_type": "code",
      "metadata": {
        "id": "D0DxH50RYo6E"
      },
      "source": [
        "import numpy as np \n",
        "import cv2\n",
        "import os\n",
        "import pandas as pd"
      ],
      "execution_count": 31,
      "outputs": []
    },
    {
      "cell_type": "code",
      "metadata": {
        "id": "PuFIr68PYz2Z"
      },
      "source": [
        "#Image Display\n",
        "%matplotlib inline\n",
        "import matplotlib.pyplot as plt\n",
        "import matplotlib.image as mpimg"
      ],
      "execution_count": 32,
      "outputs": []
    },
    {
      "cell_type": "code",
      "metadata": {
        "id": "ViRhT2gP8arw"
      },
      "source": [
        "from keras.models import load_model"
      ],
      "execution_count": 17,
      "outputs": []
    },
    {
      "cell_type": "code",
      "metadata": {
        "id": "gZnoc55nY6vM"
      },
      "source": [
        "#Generator\n",
        "# from tensorflow.keras import keras\n",
        "from tensorflow.keras.preprocessing.image import ImageDataGenerator\n",
        "# Loding Pre-trained Weights of ImageNet \n",
        "from keras.applications.vgg16 import preprocess_input\n",
        "# Data Augmentation parameteres\n",
        "datagen_train = ImageDataGenerator(preprocessing_function= preprocess_input,rescale = 1./255.,horizontal_flip=True,shear_range=0.2, rotation_range=5,\n",
        "                                  brightness_range=[0.1, 2], zoom_range=0.2, validation_split=0.1)\n"
      ],
      "execution_count": 33,
      "outputs": []
    },
    {
      "cell_type": "code",
      "metadata": {
        "colab": {
          "base_uri": "https://localhost:8080/"
        },
        "id": "2VRL2jmoZCp8",
        "outputId": "5ad025ef-5b42-4321-db6b-6155907c62c7"
      },
      "source": [
        "generator_train=datagen_train.flow_from_directory(\n",
        "      '/content/drive/MyDrive/intel-image-classification/seg_train/seg_train',\n",
        "      target_size=(150,150), batch_size=64, class_mode='sparse', seed=2209,\n",
        "      subset='training'\n",
        "    \n",
        ")\n",
        "\n",
        "validation_generator=datagen_train.flow_from_directory(\n",
        "      '/content/drive/MyDrive/intel-image-classification/seg_train/seg_train',\n",
        "      target_size=(150,150),batch_size=64, class_mode='sparse', shuffle=False,\n",
        "      seed=2209, subset='validation'\n",
        "    \n",
        ")\n",
        "\n",
        "test_datagen = ImageDataGenerator(preprocessing_function= preprocess_input, rescale = 1./255.)\n",
        "test_generator = test_datagen.flow_from_directory(\n",
        "    '/content/drive/MyDrive/intel-image-classification/seg_validation/seg_validation', \n",
        "    target_size=(150,150), batch_size=32, shuffle=False, class_mode='sparse',\n",
        "    seed=2209\n",
        ") \n",
        "\n",
        "pred_datagen = ImageDataGenerator(preprocessing_function= preprocess_input, rescale = 1./255.)\n",
        "pred_generator = pred_datagen.flow_from_directory(\n",
        "    '/content/drive/MyDrive/intel-image-classification/seg_pred/seg_pred/', \n",
        "    target_size=(150,150), batch_size=1, shuffle=False, class_mode='sparse',\n",
        "    seed=2209\n",
        ") \n",
        "\n",
        "test1_datagen = ImageDataGenerator(preprocessing_function= preprocess_input, rescale = 1./255.)\n",
        "test1_generator = test1_datagen.flow_from_directory(\n",
        "    '/content/drive/MyDrive/intel-image-classification/seg_validation/seg_validation', \n",
        "    target_size=(150,150), batch_size=1, class_mode=None, shuffle=False,\n",
        "    seed=2209\n",
        ") \n"
      ],
      "execution_count": 34,
      "outputs": [
        {
          "output_type": "stream",
          "text": [
            "Found 12633 images belonging to 6 classes.\n",
            "Found 1402 images belonging to 6 classes.\n",
            "Found 3000 images belonging to 6 classes.\n",
            "Found 7311 images belonging to 6 classes.\n",
            "Found 3000 images belonging to 6 classes.\n"
          ],
          "name": "stdout"
        }
      ]
    },
    {
      "cell_type": "code",
      "metadata": {
        "id": "yAQxsioDceex"
      },
      "source": [
        "SEED = 2209\n",
        "import os\n",
        "import random as rn\n",
        "import numpy as np\n",
        "import tensorflow as tf\n",
        "tf.random.set_seed(SEED) \n",
        "\n",
        "os.environ['PYTHONHASHSEED']=str(SEED)\n",
        "np.random.seed(SEED)\n",
        "\n",
        "rn.seed(SEED)"
      ],
      "execution_count": 35,
      "outputs": []
    },
    {
      "cell_type": "code",
      "metadata": {
        "colab": {
          "base_uri": "https://localhost:8080/"
        },
        "id": "cTCrdjqIcgAH",
        "outputId": "baa5736c-527e-4c80-d5cd-e3cfe0be508f"
      },
      "source": [
        "from keras.layers import *\n",
        "from keras.models import Sequential\n",
        "from keras.models import Model\n",
        "from keras.layers import Dense\n",
        "from keras.layers import Dropout\n",
        "from keras.layers import BatchNormalization\n",
        "import numpy as np \n",
        "from keras.applications.resnet50 import ResNet50\n",
        "import keras\n",
        "\n",
        "model = Sequential()\n",
        "model.add(Conv2D(input_shape=(150,150,3),filters=64,kernel_size=(3,3),padding=\"same\", activation=\"relu\"))\n",
        "model.add(Conv2D(filters=64,kernel_size=(3,3),padding=\"same\", activation=\"relu\"))\n",
        "model.add(MaxPool2D(pool_size=(2,2),strides=(2,2)))\n",
        "model.add(Dropout(0.25))\n",
        "model.add(Conv2D(filters=128, kernel_size=(3,3), padding=\"same\", activation=\"relu\"))\n",
        "model.add(Conv2D(filters=128, kernel_size=(3,3), padding=\"same\", activation=\"relu\"))\n",
        "model.add(MaxPool2D(pool_size=(2,2),strides=(2,2)))\n",
        "model.add(Dropout(0.25))\n",
        "model.add(Conv2D(filters=256, kernel_size=(3,3), padding=\"same\", activation=\"relu\"))\n",
        "model.add(Conv2D(filters=256, kernel_size=(3,3), padding=\"same\", activation=\"relu\"))\n",
        "model.add(Conv2D(filters=256, kernel_size=(3,3), padding=\"same\", activation=\"relu\"))\n",
        "model.add(MaxPool2D(pool_size=(2,2),strides=(2,2)))\n",
        "model.add(Dropout(0.25))\n",
        "model.add(Conv2D(filters=512, kernel_size=(3,3), padding=\"same\", activation=\"relu\"))\n",
        "model.add(Conv2D(filters=512, kernel_size=(3,3), padding=\"same\", activation=\"relu\"))\n",
        "model.add(Conv2D(filters=512, kernel_size=(3,3), padding=\"same\", activation=\"relu\"))\n",
        "model.add(MaxPool2D(pool_size=(2,2),strides=(2,2)))\n",
        "model.add(Dropout(0.25))\n",
        "model.add(Conv2D(filters=512, kernel_size=(3,3), padding=\"same\", activation=\"relu\"))\n",
        "model.add(Conv2D(filters=512, kernel_size=(3,3), padding=\"same\", activation=\"relu\"))\n",
        "model.add(Conv2D(filters=512, kernel_size=(3,3), padding=\"same\", activation=\"relu\"))\n",
        "model.add(MaxPool2D(pool_size=(2,2),strides=(2,2)))\n",
        "model.add(Dropout(0.25))\n",
        "model.add(Flatten())\n",
        "model.add(Dense(units=4096,activation=\"relu\"))\n",
        "model.add(Dense(units=4096,activation=\"relu\"))\n",
        "model.add(Dense(units=6, activation=\"softmax\"))\n",
        "model.summary()"
      ],
      "execution_count": 39,
      "outputs": [
        {
          "output_type": "stream",
          "text": [
            "Model: \"sequential_5\"\n",
            "_________________________________________________________________\n",
            "Layer (type)                 Output Shape              Param #   \n",
            "=================================================================\n",
            "conv2d_54 (Conv2D)           (None, 150, 150, 64)      1792      \n",
            "_________________________________________________________________\n",
            "conv2d_55 (Conv2D)           (None, 150, 150, 64)      36928     \n",
            "_________________________________________________________________\n",
            "max_pooling2d_21 (MaxPooling (None, 75, 75, 64)        0         \n",
            "_________________________________________________________________\n",
            "dropout (Dropout)            (None, 75, 75, 64)        0         \n",
            "_________________________________________________________________\n",
            "conv2d_56 (Conv2D)           (None, 75, 75, 128)       73856     \n",
            "_________________________________________________________________\n",
            "conv2d_57 (Conv2D)           (None, 75, 75, 128)       147584    \n",
            "_________________________________________________________________\n",
            "max_pooling2d_22 (MaxPooling (None, 37, 37, 128)       0         \n",
            "_________________________________________________________________\n",
            "dropout_1 (Dropout)          (None, 37, 37, 128)       0         \n",
            "_________________________________________________________________\n",
            "conv2d_58 (Conv2D)           (None, 37, 37, 256)       295168    \n",
            "_________________________________________________________________\n",
            "conv2d_59 (Conv2D)           (None, 37, 37, 256)       590080    \n",
            "_________________________________________________________________\n",
            "conv2d_60 (Conv2D)           (None, 37, 37, 256)       590080    \n",
            "_________________________________________________________________\n",
            "max_pooling2d_23 (MaxPooling (None, 18, 18, 256)       0         \n",
            "_________________________________________________________________\n",
            "dropout_2 (Dropout)          (None, 18, 18, 256)       0         \n",
            "_________________________________________________________________\n",
            "conv2d_61 (Conv2D)           (None, 18, 18, 512)       1180160   \n",
            "_________________________________________________________________\n",
            "conv2d_62 (Conv2D)           (None, 18, 18, 512)       2359808   \n",
            "_________________________________________________________________\n",
            "conv2d_63 (Conv2D)           (None, 18, 18, 512)       2359808   \n",
            "_________________________________________________________________\n",
            "max_pooling2d_24 (MaxPooling (None, 9, 9, 512)         0         \n",
            "_________________________________________________________________\n",
            "dropout_3 (Dropout)          (None, 9, 9, 512)         0         \n",
            "_________________________________________________________________\n",
            "conv2d_64 (Conv2D)           (None, 9, 9, 512)         2359808   \n",
            "_________________________________________________________________\n",
            "conv2d_65 (Conv2D)           (None, 9, 9, 512)         2359808   \n",
            "_________________________________________________________________\n",
            "conv2d_66 (Conv2D)           (None, 9, 9, 512)         2359808   \n",
            "_________________________________________________________________\n",
            "max_pooling2d_25 (MaxPooling (None, 4, 4, 512)         0         \n",
            "_________________________________________________________________\n",
            "dropout_4 (Dropout)          (None, 4, 4, 512)         0         \n",
            "_________________________________________________________________\n",
            "flatten_4 (Flatten)          (None, 8192)              0         \n",
            "_________________________________________________________________\n",
            "dense_12 (Dense)             (None, 4096)              33558528  \n",
            "_________________________________________________________________\n",
            "dense_13 (Dense)             (None, 4096)              16781312  \n",
            "_________________________________________________________________\n",
            "dense_14 (Dense)             (None, 6)                 24582     \n",
            "=================================================================\n",
            "Total params: 65,079,110\n",
            "Trainable params: 65,079,110\n",
            "Non-trainable params: 0\n",
            "_________________________________________________________________\n"
          ],
          "name": "stdout"
        }
      ]
    },
    {
      "cell_type": "code",
      "metadata": {
        "colab": {
          "base_uri": "https://localhost:8080/"
        },
        "id": "IzyG7-M5csGe",
        "outputId": "4e738cd4-3d3f-4cac-be6f-b69e0c2ebe4e"
      },
      "source": [
        "from keras.optimizers import SGD\n",
        "reducelronp =tf. keras.callbacks.ReduceLROnPlateau(monitor='val_loss', factor=0.1, patience=10, mode='auto')\n",
        "sgd = SGD(lr=0.01, decay=1e-7, momentum=.9)\n",
        "model.compile(optimizer=sgd,loss='sparse_categorical_crossentropy',metrics=['accuracy'])\n",
        "history1=model.fit_generator(\n",
        "  generator_train,\n",
        "  steps_per_epoch=int(12633/64),\n",
        "  epochs=50,\n",
        "  validation_data=validation_generator,\n",
        "  validation_steps=int(1402/64),\n",
        "  callbacks=[reducelronp],\n",
        "  verbose=1\n",
        ")"
      ],
      "execution_count": 40,
      "outputs": [
        {
          "output_type": "stream",
          "text": [
            "/usr/local/lib/python3.6/dist-packages/tensorflow/python/keras/engine/training.py:1844: UserWarning: `Model.fit_generator` is deprecated and will be removed in a future version. Please use `Model.fit`, which supports generators.\n",
            "  warnings.warn('`Model.fit_generator` is deprecated and '\n"
          ],
          "name": "stderr"
        },
        {
          "output_type": "stream",
          "text": [
            "Epoch 1/50\n",
            "197/197 [==============================] - 145s 730ms/step - loss: 1.7896 - accuracy: 0.1850 - val_loss: 1.7542 - val_accuracy: 0.2738\n",
            "Epoch 2/50\n",
            "197/197 [==============================] - 143s 723ms/step - loss: 1.6895 - accuracy: 0.2865 - val_loss: 1.7369 - val_accuracy: 0.2753\n",
            "Epoch 3/50\n",
            "197/197 [==============================] - 143s 724ms/step - loss: 1.6068 - accuracy: 0.3470 - val_loss: 1.2103 - val_accuracy: 0.5082\n",
            "Epoch 4/50\n",
            "197/197 [==============================] - 143s 725ms/step - loss: 1.1811 - accuracy: 0.5257 - val_loss: 1.1029 - val_accuracy: 0.5506\n",
            "Epoch 5/50\n",
            "197/197 [==============================] - 143s 725ms/step - loss: 1.0550 - accuracy: 0.5769 - val_loss: 1.0871 - val_accuracy: 0.5402\n",
            "Epoch 6/50\n",
            "197/197 [==============================] - 143s 726ms/step - loss: 0.9690 - accuracy: 0.6115 - val_loss: 0.9498 - val_accuracy: 0.6458\n",
            "Epoch 7/50\n",
            "197/197 [==============================] - 143s 726ms/step - loss: 0.9151 - accuracy: 0.6359 - val_loss: 0.9476 - val_accuracy: 0.6265\n",
            "Epoch 8/50\n",
            "197/197 [==============================] - 142s 720ms/step - loss: 0.8664 - accuracy: 0.6468 - val_loss: 0.8855 - val_accuracy: 0.6652\n",
            "Epoch 9/50\n",
            "197/197 [==============================] - 142s 718ms/step - loss: 0.8514 - accuracy: 0.6630 - val_loss: 0.8387 - val_accuracy: 0.6555\n",
            "Epoch 10/50\n",
            "197/197 [==============================] - 142s 720ms/step - loss: 0.8167 - accuracy: 0.6705 - val_loss: 0.8211 - val_accuracy: 0.6771\n",
            "Epoch 11/50\n",
            "197/197 [==============================] - 142s 722ms/step - loss: 0.7618 - accuracy: 0.6942 - val_loss: 0.8480 - val_accuracy: 0.6689\n",
            "Epoch 12/50\n",
            "197/197 [==============================] - 144s 728ms/step - loss: 0.7622 - accuracy: 0.7003 - val_loss: 0.7494 - val_accuracy: 0.7068\n",
            "Epoch 13/50\n",
            "197/197 [==============================] - 142s 722ms/step - loss: 0.7184 - accuracy: 0.7155 - val_loss: 0.7236 - val_accuracy: 0.7359\n",
            "Epoch 14/50\n",
            "197/197 [==============================] - 142s 720ms/step - loss: 0.7097 - accuracy: 0.7167 - val_loss: 0.7416 - val_accuracy: 0.7232\n",
            "Epoch 15/50\n",
            "197/197 [==============================] - 142s 719ms/step - loss: 0.6986 - accuracy: 0.7298 - val_loss: 0.7160 - val_accuracy: 0.7277\n",
            "Epoch 16/50\n",
            "197/197 [==============================] - 143s 722ms/step - loss: 0.6631 - accuracy: 0.7421 - val_loss: 0.6635 - val_accuracy: 0.7515\n",
            "Epoch 17/50\n",
            "197/197 [==============================] - 142s 722ms/step - loss: 0.6518 - accuracy: 0.7428 - val_loss: 0.6256 - val_accuracy: 0.7671\n",
            "Epoch 18/50\n",
            "197/197 [==============================] - 142s 721ms/step - loss: 0.6473 - accuracy: 0.7503 - val_loss: 0.6363 - val_accuracy: 0.7619\n",
            "Epoch 19/50\n",
            "197/197 [==============================] - 143s 722ms/step - loss: 0.6164 - accuracy: 0.7633 - val_loss: 0.6055 - val_accuracy: 0.7760\n",
            "Epoch 20/50\n",
            "197/197 [==============================] - 142s 720ms/step - loss: 0.5909 - accuracy: 0.7756 - val_loss: 0.5455 - val_accuracy: 0.7961\n",
            "Epoch 21/50\n",
            "197/197 [==============================] - 142s 722ms/step - loss: 0.5592 - accuracy: 0.7939 - val_loss: 0.5476 - val_accuracy: 0.7969\n",
            "Epoch 22/50\n",
            "197/197 [==============================] - 142s 719ms/step - loss: 0.5453 - accuracy: 0.7994 - val_loss: 0.5782 - val_accuracy: 0.7872\n",
            "Epoch 23/50\n",
            "197/197 [==============================] - 142s 720ms/step - loss: 0.5353 - accuracy: 0.8018 - val_loss: 0.5432 - val_accuracy: 0.8088\n",
            "Epoch 24/50\n",
            "197/197 [==============================] - 142s 720ms/step - loss: 0.4974 - accuracy: 0.8149 - val_loss: 0.5599 - val_accuracy: 0.8021\n",
            "Epoch 25/50\n",
            "197/197 [==============================] - 143s 725ms/step - loss: 0.4857 - accuracy: 0.8185 - val_loss: 0.5062 - val_accuracy: 0.8259\n",
            "Epoch 26/50\n",
            "197/197 [==============================] - 143s 727ms/step - loss: 0.4725 - accuracy: 0.8288 - val_loss: 0.4643 - val_accuracy: 0.8475\n",
            "Epoch 27/50\n",
            "197/197 [==============================] - 143s 726ms/step - loss: 0.4527 - accuracy: 0.8367 - val_loss: 0.4877 - val_accuracy: 0.8304\n",
            "Epoch 28/50\n",
            "197/197 [==============================] - 143s 725ms/step - loss: 0.4284 - accuracy: 0.8406 - val_loss: 0.5495 - val_accuracy: 0.8043\n",
            "Epoch 29/50\n",
            "197/197 [==============================] - 144s 729ms/step - loss: 0.4282 - accuracy: 0.8435 - val_loss: 0.4432 - val_accuracy: 0.8497\n",
            "Epoch 30/50\n",
            "197/197 [==============================] - 143s 724ms/step - loss: 0.4273 - accuracy: 0.8432 - val_loss: 0.4473 - val_accuracy: 0.8438\n",
            "Epoch 31/50\n",
            "197/197 [==============================] - 143s 723ms/step - loss: 0.4230 - accuracy: 0.8426 - val_loss: 0.4463 - val_accuracy: 0.8504\n",
            "Epoch 32/50\n",
            "197/197 [==============================] - 143s 726ms/step - loss: 0.4098 - accuracy: 0.8540 - val_loss: 0.4931 - val_accuracy: 0.8170\n",
            "Epoch 33/50\n",
            "197/197 [==============================] - 143s 725ms/step - loss: 0.3886 - accuracy: 0.8574 - val_loss: 0.4101 - val_accuracy: 0.8534\n",
            "Epoch 34/50\n",
            "197/197 [==============================] - 143s 726ms/step - loss: 0.3556 - accuracy: 0.8712 - val_loss: 0.4213 - val_accuracy: 0.8646\n",
            "Epoch 35/50\n",
            "197/197 [==============================] - 143s 722ms/step - loss: 0.3521 - accuracy: 0.8749 - val_loss: 0.4191 - val_accuracy: 0.8549\n",
            "Epoch 36/50\n",
            "197/197 [==============================] - 143s 726ms/step - loss: 0.3530 - accuracy: 0.8649 - val_loss: 0.4527 - val_accuracy: 0.8564\n",
            "Epoch 37/50\n",
            "197/197 [==============================] - 143s 722ms/step - loss: 0.3438 - accuracy: 0.8718 - val_loss: 0.3941 - val_accuracy: 0.8631\n",
            "Epoch 38/50\n",
            "197/197 [==============================] - 143s 724ms/step - loss: 0.3567 - accuracy: 0.8678 - val_loss: 0.3878 - val_accuracy: 0.8698\n",
            "Epoch 39/50\n",
            "197/197 [==============================] - 143s 725ms/step - loss: 0.3259 - accuracy: 0.8807 - val_loss: 0.4497 - val_accuracy: 0.8557\n",
            "Epoch 40/50\n",
            "197/197 [==============================] - 143s 723ms/step - loss: 0.3374 - accuracy: 0.8728 - val_loss: 0.3989 - val_accuracy: 0.8646\n",
            "Epoch 41/50\n",
            "197/197 [==============================] - 143s 723ms/step - loss: 0.2968 - accuracy: 0.8908 - val_loss: 0.3925 - val_accuracy: 0.8668\n",
            "Epoch 42/50\n",
            "197/197 [==============================] - 143s 723ms/step - loss: 0.3096 - accuracy: 0.8823 - val_loss: 0.4270 - val_accuracy: 0.8445\n",
            "Epoch 43/50\n",
            "197/197 [==============================] - 143s 722ms/step - loss: 0.2977 - accuracy: 0.8885 - val_loss: 0.3873 - val_accuracy: 0.8616\n",
            "Epoch 44/50\n",
            "197/197 [==============================] - 143s 722ms/step - loss: 0.2900 - accuracy: 0.8922 - val_loss: 0.4281 - val_accuracy: 0.8564\n",
            "Epoch 45/50\n",
            "197/197 [==============================] - 143s 725ms/step - loss: 0.2940 - accuracy: 0.8893 - val_loss: 0.4058 - val_accuracy: 0.8743\n",
            "Epoch 46/50\n",
            "197/197 [==============================] - 143s 724ms/step - loss: 0.2684 - accuracy: 0.9018 - val_loss: 0.4148 - val_accuracy: 0.8579\n",
            "Epoch 47/50\n",
            "197/197 [==============================] - 143s 726ms/step - loss: 0.2580 - accuracy: 0.9003 - val_loss: 0.4191 - val_accuracy: 0.8519\n",
            "Epoch 48/50\n",
            "197/197 [==============================] - 143s 722ms/step - loss: 0.2625 - accuracy: 0.9060 - val_loss: 0.3913 - val_accuracy: 0.8631\n",
            "Epoch 49/50\n",
            "197/197 [==============================] - 143s 725ms/step - loss: 0.2549 - accuracy: 0.9076 - val_loss: 0.4648 - val_accuracy: 0.8624\n",
            "Epoch 50/50\n",
            "197/197 [==============================] - 143s 726ms/step - loss: 0.2609 - accuracy: 0.9066 - val_loss: 0.4236 - val_accuracy: 0.8638\n"
          ],
          "name": "stdout"
        }
      ]
    },
    {
      "cell_type": "code",
      "metadata": {
        "colab": {
          "base_uri": "https://localhost:8080/"
        },
        "id": "EmbPvE06cr2l",
        "outputId": "4eb1d248-90e5-49be-e745-e44cc5d30499"
      },
      "source": [
        "accuracy=model.evaluate_generator(test_generator, steps=len(test_generator)//32, callbacks=[reducelronp],verbose=2)\n",
        "print('Accuracy of the model on the validation set: ',accuracy[1])\n",
        "accuracy1=model.evaluate_generator(pred_generator, steps=len(pred_generator), callbacks=[reducelronp],verbose=2)\n",
        "print('Accuracy of the model on the Test set: ',accuracy1[1])"
      ],
      "execution_count": 41,
      "outputs": [
        {
          "output_type": "stream",
          "text": [
            "/usr/local/lib/python3.6/dist-packages/tensorflow/python/keras/engine/training.py:1877: UserWarning: `Model.evaluate_generator` is deprecated and will be removed in a future version. Please use `Model.evaluate`, which supports generators.\n",
            "  warnings.warn('`Model.evaluate_generator` is deprecated and '\n"
          ],
          "name": "stderr"
        },
        {
          "output_type": "stream",
          "text": [
            "2/2 - 0s - loss: 0.6832 - accuracy: 0.7812\n",
            "Accuracy of the model on the validation set:  0.78125\n",
            "7311/7311 - 4907s - loss: 0.4646 - accuracy: 0.8636\n",
            "Accuracy of the model on the Test set:  0.8636301755905151\n"
          ],
          "name": "stdout"
        }
      ]
    },
    {
      "cell_type": "code",
      "metadata": {
        "colab": {
          "base_uri": "https://localhost:8080/",
          "height": 545
        },
        "id": "a8rIMHEwc_Xh",
        "outputId": "6d81e533-feea-4613-f2d6-7897c2b6ce1f"
      },
      "source": [
        "#Evaluating Accuracy and Loss of the model\n",
        "%matplotlib inline\n",
        "acc=history1.history['accuracy']\n",
        "val_acc=history1.history['val_accuracy']\n",
        "loss=history1.history['loss']\n",
        "val_loss=history1.history['val_loss']\n",
        "\n",
        "epochs=range(len(acc)) #No. of epochs\n",
        "\n",
        "#Plot training and validation accuracy per epoch\n",
        "import matplotlib.pyplot as plt\n",
        "plt.plot(epochs,acc,'b',label='Training Accuracy')\n",
        "plt.plot(epochs,val_acc,'r',label='Validation Accuracy')\n",
        "plt.title('Training and Validation accuracy per epoch')\n",
        "plt.legend()\n",
        "plt.figure()\n",
        "\n",
        "#Plot training and validation loss per epoch\n",
        "plt.plot(epochs,loss,'b',label='Training Loss')\n",
        "plt.plot(epochs,val_loss,'r',label='Validation Loss')\n",
        "plt.title('Training and Validation loss per epoch')\n",
        "plt.legend()\n",
        "plt.show()"
      ],
      "execution_count": 42,
      "outputs": [
        {
          "output_type": "display_data",
          "data": {
            "image/png": "[encoded data removed]",
            "text/plain": [
              "<Figure size 432x288 with 1 Axes>"
            ]
          },
          "metadata": {
            "tags": [],
            "needs_background": "light"
          }
        },
        {
          "output_type": "display_data",
          "data": {
            "image/png": "[encoded data removed]",
            "text/plain": [
              "<Figure size 432x288 with 1 Axes>"
            ]
          },
          "metadata": {
            "tags": [],
            "needs_background": "light"
          }
        }
      ]
    },
    {
      "cell_type": "code",
      "metadata": {
        "id": "A8wshQ2wdMGl"
      },
      "source": [
        "path = F\"/content/drive/MyDrive/weights.h5\" \n",
        "model.save(path)"
      ],
      "execution_count": 43,
      "outputs": []
    },
    {
      "cell_type": "code",
      "metadata": {
        "colab": {
          "base_uri": "https://localhost:8080/"
        },
        "id": "SNa7X5V_c_MD",
        "outputId": "8bda129b-3c18-4634-d2a8-10c306efdf1c"
      },
      "source": [
        "filenames = pred_generator.filenames\n",
        "nb_samples = len(filenames)\n",
        "y_predict = model.predict_generator(pred_generator,steps = nb_samples)\n",
        "from sklearn.metrics  import classification_report\n",
        "print(classification_report(y_true=pred_generator.labels, y_pred=y_predict.argmax(axis=-1), target_names=['Building','Forest','Glacier','Mountain','Sea','Street']))"
      ],
      "execution_count": 45,
      "outputs": [
        {
          "output_type": "stream",
          "text": [
            "/usr/local/lib/python3.6/dist-packages/tensorflow/python/keras/engine/training.py:1905: UserWarning: `Model.predict_generator` is deprecated and will be removed in a future version. Please use `Model.predict`, which supports generators.\n",
            "  warnings.warn('`Model.predict_generator` is deprecated and '\n"
          ],
          "name": "stderr"
        },
        {
          "output_type": "stream",
          "text": [
            "              precision    recall  f1-score   support\n",
            "\n",
            "    Building       0.91      0.82      0.87      1154\n",
            "      Forest       0.96      0.98      0.97      1166\n",
            "     Glacier       0.86      0.79      0.82      1330\n",
            "    Mountain       0.82      0.78      0.80      1297\n",
            "         Sea       0.80      0.89      0.85      1128\n",
            "      Street       0.84      0.93      0.88      1236\n",
            "\n",
            "    accuracy                           0.86      7311\n",
            "   macro avg       0.87      0.87      0.86      7311\n",
            "weighted avg       0.87      0.86      0.86      7311\n",
            "\n"
          ],
          "name": "stdout"
        }
      ]
    }
  ]
}